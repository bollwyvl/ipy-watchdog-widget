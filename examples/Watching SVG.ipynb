{
 "cells": [
  {
   "cell_type": "markdown",
   "metadata": {},
   "source": [
    "# Watching SVG\n",
    "[Inkscape SVG](https://inkscape.org) files are a great way to quickly prototype visualizations and diagrams, and can also store arbitrary XML data like RDF. With `ipywatchdog`, you can automatically update the state of an SVG based on saves in Inkscape, then continue to manipulate the data with python libraries like [`PyQuery`](https://pythonhosted.org/pyquery) or JS libraries like [`d3`](https://d3js.org)."
   ]
  },
  {
   "cell_type": "code",
   "execution_count": 9,
   "metadata": {
    "collapsed": false
   },
   "outputs": [],
   "source": [
    "from ipywidgets import widgets\n",
    "from ipywatchdogwidget import Watchdog"
   ]
  },
  {
   "cell_type": "markdown",
   "metadata": {},
   "source": [
    "The [HTML Widget](https://nbviewer.jupyter.org/github/ipython/ipywidgets/blob/master/examples/notebooks/Widget%20List.ipynb#HTML) can render SVG elements just fine."
   ]
  },
  {
   "cell_type": "code",
   "execution_count": 10,
   "metadata": {
    "collapsed": true
   },
   "outputs": [],
   "source": [
    "html = widgets.HTML(value=\"\"\"<svg><text x=\"20\" y=\"20\">This is not the file</text></svg>\"\"\")"
   ]
  },
  {
   "cell_type": "markdown",
   "metadata": {},
   "source": [
    "Let's create a `Watchdog` to watch any SVG file in this directory..."
   ]
  },
  {
   "cell_type": "code",
   "execution_count": 11,
   "metadata": {
    "collapsed": false
   },
   "outputs": [
    {
     "data": {
      "text/plain": [
       "['./drawing.svg']"
      ]
     },
     "execution_count": 11,
     "metadata": {},
     "output_type": "execute_result"
    }
   ],
   "source": [
    "dog = Watchdog(path=\".\", file=\"*.svg\")\n",
    "dog.ls()"
   ]
  },
  {
   "cell_type": "markdown",
   "metadata": {},
   "source": [
    "and update that `HTML` based on file events that we see...."
   ]
  },
  {
   "cell_type": "code",
   "execution_count": 12,
   "metadata": {
    "collapsed": false
   },
   "outputs": [],
   "source": [
    "@dog.on_any\n",
    "def show_svg(self, content):\n",
    "    with open(content[\"src_path\"]) as fp:\n",
    "        html.value = fp.read()"
   ]
  },
  {
   "cell_type": "code",
   "execution_count": 13,
   "metadata": {
    "collapsed": false
   },
   "outputs": [],
   "source": [
    "dog.start()\n",
    "html"
   ]
  },
  {
   "cell_type": "markdown",
   "metadata": {},
   "source": [
    "Now, if there aren't any changes yet, we can force an update..."
   ]
  },
  {
   "cell_type": "code",
   "execution_count": 14,
   "metadata": {
    "collapsed": true
   },
   "outputs": [],
   "source": [
    "dog.touch()"
   ]
  },
  {
   "cell_type": "markdown",
   "metadata": {},
   "source": [
    "Since the `HTML` widget makes the DOM immediately available, we can mix live effects with live reloading."
   ]
  },
  {
   "cell_type": "code",
   "execution_count": 15,
   "metadata": {
    "collapsed": false
   },
   "outputs": [
    {
     "data": {
      "application/javascript": [
       "require([\"//cdn.jsdelivr.net/g/d3js\"], function(d3){\n",
       "    setInterval(function(){\n",
       "        var t = +(new Date());\n",
       "        var svg = d3.select(\"svg\")\n",
       "        \n",
       "        svg.selectAll(\"tspan\")\n",
       "           .transition()\n",
       "           .style({fill: d3.hsl(t % 256, 0.5, 0.5)});\n",
       "        \n",
       "        svg.select(\"#clock-hand\")\n",
       "            .transition()\n",
       "            .attr({transform: \"rotate(\" + (t % 60) + \")\"})\n",
       "    }, 1000)\n",
       "});"
      ],
      "text/plain": [
       "<IPython.core.display.Javascript object>"
      ]
     },
     "metadata": {},
     "output_type": "display_data"
    }
   ],
   "source": [
    "%%javascript\n",
    "require([\"//cdn.jsdelivr.net/g/d3js\"], function(d3){\n",
    "    setInterval(function(){\n",
    "        var t = +(new Date());\n",
    "        var svg = d3.select(\"svg\")\n",
    "        \n",
    "        svg.selectAll(\"tspan\")\n",
    "           .transition()\n",
    "           .style({fill: d3.hsl(t % 256, 0.5, 0.5)});\n",
    "    }, 1000)\n",
    "});"
   ]
  },
  {
   "cell_type": "markdown",
   "metadata": {},
   "source": [
    "If you're done watching, you can stop the `Watchdog`."
   ]
  },
  {
   "cell_type": "code",
   "execution_count": 16,
   "metadata": {
    "collapsed": true
   },
   "outputs": [],
   "source": [
    "dog.stop()"
   ]
  }
 ],
 "metadata": {
  "kernelspec": {
   "display_name": "Python 3",
   "language": "python",
   "name": "python3"
  },
  "language_info": {
   "codemirror_mode": {
    "name": "ipython",
    "version": 3
   },
   "file_extension": ".py",
   "mimetype": "text/x-python",
   "name": "python",
   "nbconvert_exporter": "python",
   "pygments_lexer": "ipython3",
   "version": "3.5.1"
  }
 },
 "nbformat": 4,
 "nbformat_minor": 0
}
